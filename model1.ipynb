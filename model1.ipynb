{
 "cells": [
  {
   "cell_type": "code",
   "execution_count": 99,
   "metadata": {},
   "outputs": [],
   "source": [
    "import pandas as pd\n",
    "from sklearn.tree import DecisionTreeClassifier\n",
    "from sklearn.model_selection import train_test_split\n",
    "from sklearn.metrics import accuracy_score\n",
    "from sklearn import tree"
   ]
  },
  {
   "cell_type": "code",
   "execution_count": 100,
   "metadata": {},
   "outputs": [],
   "source": [
    "df= pd.read_csv('music.csv')\n",
    "\n",
    "X= df.drop(columns=['genre'])\n",
    "Y= df['genre']\n",
    "\n",
    "X_train, Xtest, Ytrain, Ytest= train_test_split(X ,Y, test_size=0.25)\n",
    "\n",
    "model= DecisionTreeClassifier()\n",
    "\n",
    "model.fit(X_train,Ytrain)\n",
    "\n",
    "tree.export_graphviz(model, out_file='music-recommender.dot',feature_names=['age', 'gneder'], class_names=sorted(Y.unique()), label='all', rounded=True, filled=True)"
   ]
  },
  {
   "cell_type": "code",
   "execution_count": null,
   "metadata": {},
   "outputs": [],
   "source": []
  }
 ],
 "metadata": {
  "kernelspec": {
   "display_name": "Python 3",
   "language": "python",
   "name": "python3"
  },
  "language_info": {
   "codemirror_mode": {
    "name": "ipython",
    "version": 3
   },
   "file_extension": ".py",
   "mimetype": "text/x-python",
   "name": "python",
   "nbconvert_exporter": "python",
   "pygments_lexer": "ipython3",
   "version": "3.11.2"
  }
 },
 "nbformat": 4,
 "nbformat_minor": 2
}
